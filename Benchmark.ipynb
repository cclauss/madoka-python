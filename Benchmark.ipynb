{
 "cells": [
  {
   "cell_type": "markdown",
   "metadata": {},
   "source": [
    "# Memory consumption"
   ]
  },
  {
   "cell_type": "code",
   "execution_count": 1,
   "metadata": {},
   "outputs": [],
   "source": [
    "import collections\n",
    "import subprocess\n",
    "import itertools\n",
    "import os\n",
    "import time\n",
    "\n",
    "import madoka\n",
    "import numpy as np\n",
    "import redis\n",
    "\n",
    "\n",
    "ALPHANUM = 'abcdefghijklmnopqrstuvwxyzABCDEFGHIJKLMNOPQRSTUVWXYZ0123456789'\n",
    "NUM_ALPHANUM_COMBINATION = 238328\n",
    "zipf_array = np.random.zipf(1.5, NUM_ALPHANUM_COMBINATION)"
   ]
  },
  {
   "cell_type": "code",
   "execution_count": 2,
   "metadata": {},
   "outputs": [],
   "source": [
    "def python_memory_usage():\n",
    "    return int(subprocess.getoutput('ps up %s' % os.getpid()).split()[15])\n",
    "\n",
    "def redis_memory_usage():\n",
    "    lines = subprocess.getoutput('ps').splitlines()\n",
    "    for line in lines:\n",
    "        if 'redis-server' in line:\n",
    "            pid = line.split()[0]\n",
    "            break\n",
    "    return int(subprocess.getoutput('ps up %s' % pid).split()[15])\n",
    "\n",
    "def count(counter):\n",
    "    for (i, chars) in enumerate(itertools.product(ALPHANUM, repeat=3)):\n",
    "        chars = ''.join(chars)\n",
    "        counter[chars] = int(zipf_array[i])\n",
    "    return counter\n",
    "\n",
    "\n",
    "def benchmark(counter, start_mem_usage):\n",
    "    counter = count(counter)\n",
    "    end_mem_usage = python_memory_usage()\n",
    "    diff = end_mem_usage - start_mem_usage\n",
    "    print('memory consumption is {:,d} KB'.format(diff))\n",
    "    return counter\n",
    "\n",
    "\n",
    "def redis_benchmark():\n",
    "    db = redis.Redis()\n",
    "    db.flushall()\n",
    "    start_mem_usage = redis_memory_usage()\n",
    "    with db.pipeline() as pipe:\n",
    "        for (i, chars) in enumerate(itertools.product(ALPHANUM, repeat=3)):\n",
    "            chars = ''.join(chars)\n",
    "            pipe.set(chars, int(zipf_array[i]))\n",
    "        pipe.execute()\n",
    "    end_mem_usage = redis_memory_usage()\n",
    "    diff = end_mem_usage - start_mem_usage\n",
    "    print('memory consumption is {:,d} KB'.format(diff))"
   ]
  },
  {
   "cell_type": "code",
   "execution_count": 3,
   "metadata": {},
   "outputs": [
    {
     "name": "stdout",
     "output_type": "stream",
     "text": [
      "collections.Counter\n",
      "memory consumption is 32,784 KB\n",
      "Processsing Time is 0.196528 sec.\n",
      "******************************\n",
      "madoka.Sketch\n",
      "memory consumption is 13,316 KB\n",
      "Processsing Time is 0.332484 sec.\n",
      "******************************\n",
      "Redis\n",
      "memory consumption is 17,416 KB\n",
      "Processsing Time is 4.106088 sec.\n"
     ]
    }
   ],
   "source": [
    "print('collections.Counter')\n",
    "start_mem_usage = python_memory_usage()\n",
    "start_time = time.process_time()\n",
    "counter = collections.Counter()\n",
    "benchmark(counter, start_mem_usage)\n",
    "end_time = time.process_time()\n",
    "print('Processsing Time is %5f sec.' % (end_time - start_time))\n",
    "del counter\n",
    "\n",
    "print('*' * 30)\n",
    "print('madoka.Sketch')\n",
    "start_mem_usage = python_memory_usage()\n",
    "start_time = time.process_time()\n",
    "sketch = madoka.Sketch()\n",
    "benchmark(sketch, start_mem_usage)\n",
    "end_time = time.process_time()\n",
    "print('Processsing Time is %5f sec.' % (end_time - start_time))\n",
    "del sketch\n",
    "\n",
    "print('*' * 30)\n",
    "print('Redis')\n",
    "start_time = time.process_time()\n",
    "redis_benchmark()\n",
    "end_time = time.process_time()\n",
    "print('Processsing Time is %5f sec.' % (end_time - start_time))"
   ]
  },
  {
   "cell_type": "markdown",
   "metadata": {},
   "source": [
    "# Counting error rate"
   ]
  },
  {
   "cell_type": "code",
   "execution_count": 4,
   "metadata": {},
   "outputs": [],
   "source": [
    "sketch = madoka.Sketch()\n",
    "diffs = []\n",
    "for (i, chars) in enumerate(itertools.product(ALPHANUM, repeat=3)):\n",
    "    chars = ''.join(chars)\n",
    "    sketch[chars] = int(zipf_array[i])\n",
    "    diff = abs(sketch[chars] - int(zipf_array[i]))\n",
    "    if diff > 0:\n",
    "        diffs.append(diff / int(zipf_array[i]) * 100)\n",
    "    else:\n",
    "        diffs.append(0)"
   ]
  },
  {
   "cell_type": "code",
   "execution_count": 5,
   "metadata": {},
   "outputs": [
    {
     "name": "stdout",
     "output_type": "stream",
     "text": [
      "0.09119661403360393\n"
     ]
    }
   ],
   "source": [
    "print(np.average(diffs))"
   ]
  },
  {
   "cell_type": "markdown",
   "metadata": {},
   "source": [
    "# Conclusion"
   ]
  },
  {
   "cell_type": "markdown",
   "metadata": {},
   "source": [
    "## Memory consumption"
   ]
  },
  {
   "cell_type": "markdown",
   "metadata": {},
   "source": [
    "[Low] madoka.Sketch < Redis < collections.Counter [High]"
   ]
  },
  {
   "cell_type": "markdown",
   "metadata": {},
   "source": [
    "## Counting error rate"
   ]
  },
  {
   "cell_type": "markdown",
   "metadata": {},
   "source": [
    "About 0.0911 %"
   ]
  },
  {
   "cell_type": "code",
   "execution_count": null,
   "metadata": {},
   "outputs": [],
   "source": []
  }
 ],
 "metadata": {
  "kernelspec": {
   "display_name": "Python 3",
   "language": "python",
   "name": "python3"
  },
  "language_info": {
   "codemirror_mode": {
    "name": "ipython",
    "version": 3
   },
   "file_extension": ".py",
   "mimetype": "text/x-python",
   "name": "python",
   "nbconvert_exporter": "python",
   "pygments_lexer": "ipython3",
   "version": "3.7.2"
  }
 },
 "nbformat": 4,
 "nbformat_minor": 2
}
